{
 "cells": [
  {
   "cell_type": "code",
   "execution_count": null,
   "metadata": {},
   "outputs": [],
   "source": [
    "import pandas as pd\n",
    "import matplotlib.pyplot as plt\n",
    "import numpy as np\n",
    "from pathlib import Path\n",
    "import sys\n",
    "\n",
    "sys.path.insert(0, \".\")\n",
    "from src import make_data\n",
    "datadir = Path(\"../../data/processed\").resolve()"
   ]
  },
  {
   "cell_type": "markdown",
   "metadata": {},
   "source": [
    "# Linear data\n",
    "Let's create some linear data"
   ]
  },
  {
   "cell_type": "code",
   "execution_count": null,
   "metadata": {},
   "outputs": [],
   "source": [
    "filename = datadir / \"linear.csv\"\n",
    "make_data.make_linear(filename, a=2, b=4)\n",
    "df = pd.read_csv(filename)\n",
    "plt.plot(df[\"x\"], df[\"y\"], \"b+\")"
   ]
  },
  {
   "cell_type": "markdown",
   "metadata": {},
   "source": [
    "The formula for a line is:\n",
    "\n",
    "$$f(x)= a * x + b$$\n",
    "\n",
    "We have set the slope $a=2$ and the intercept $b=4$.\n",
    "\n",
    "It's obvisous that there is a lot of noise, but let's try to fit a linear model.\n",
    "\n",
    "We will use pymc for the sampling."
   ]
  },
  {
   "cell_type": "code",
   "execution_count": null,
   "metadata": {},
   "outputs": [],
   "source": [
    "import pymc as pm\n"
   ]
  },
  {
   "cell_type": "markdown",
   "metadata": {},
   "source": [
    "Now, we will assume that both $a$ and $b$ follow a normal distribution."
   ]
  },
  {
   "cell_type": "code",
   "execution_count": null,
   "metadata": {},
   "outputs": [],
   "source": [
    "df = pd.read_csv(filename)\n",
    "x = df[\"x\"]\n",
    "y = df[\"y\"]\n",
    "\n",
    "model = pm.Model()\n",
    "with model:\n",
    "    a = pm.Normal(\"a\")\n",
    "    b = pm.Normal(\"b\")\n"
   ]
  },
  {
   "cell_type": "markdown",
   "metadata": {},
   "source": [
    "\n",
    "\n",
    "We will assume that our model is not perfect. There will be noise.:\n",
    "\n",
    "$$f(x) = a * x + b + noise$$\n",
    "\n",
    "But we can assume the noise itself will also follow a normal distribution, with a mean $\\mu$ and a standard deviation $\\sigma$:\n",
    "$$ noise \\sim \\mathscr{N}(\\mu, \\sigma)$$\n",
    "\n",
    "This means there are 4 parameters we want to figure out:\n",
    " - slope $a$\n",
    " - intercept $b$\n",
    " - mean $\\mu$ from the noise\n",
    " - standard deviation $\\sigma$ from the noise\n",
    "\n",
    " The mean we already know the $\\mu$, because we expect:\n",
    " $$f(x) - (a*x + b) = \\mathscr{N}(0, \\sigma)$$\n",
    "\n",
    " which is the same as:\n",
    "\n",
    " $$f(x) = \\mathscr{N}(a*x+b, \\sigma)$$\n",
    "\n",
    " Because a standard deviation can't be negative, we will need a distribution that is strictly positive.\n",
    "\n",
    " We could use a uniform distribution for this. There are better options, but let's start with this.\n",
    "\n",
    " the `with` syntax allows us to add new things to our model.\n"
   ]
  },
  {
   "cell_type": "code",
   "execution_count": null,
   "metadata": {},
   "outputs": [],
   "source": [
    "with model:\n",
    "    sigma = pm.Uniform(\"sigma\", lower=0, upper=10)\n",
    "\n",
    "    predict = a * x + b\n",
    "\n",
    "    estimate = pm.Normal(\"y\", mu=predict, sigma=sigma, observed=y)\n",
    "    "
   ]
  },
  {
   "cell_type": "markdown",
   "metadata": {},
   "source": [
    "This is all we need to express. With this, we can run simulations to figure out the best fit."
   ]
  },
  {
   "cell_type": "code",
   "execution_count": null,
   "metadata": {},
   "outputs": [],
   "source": [
    "with model:\n",
    "    result = pm.sample(3000)"
   ]
  },
  {
   "cell_type": "code",
   "execution_count": null,
   "metadata": {},
   "outputs": [],
   "source": [
    "import arviz as az\n",
    "az.plot_trace(result)\n",
    "plt.tight_layout()"
   ]
  },
  {
   "cell_type": "markdown",
   "metadata": {},
   "source": [
    "That's a really nice answer!\n",
    "\n",
    "Because we generated the data for ourselves, we actually know that the true answers are $a=2.0$ and $b=4.0$. If you look in the sourcecode, you can see that we have set the $\\sigma=0.5$.\n",
    "\n",
    "All the answers are pretty close! And we also have a good grip on how certain we are, given the limited amount of data. \n",
    "\n",
    "Using more data would decrease our uncertainty."
   ]
  },
  {
   "cell_type": "markdown",
   "metadata": {},
   "source": [
    "# Sinewave"
   ]
  },
  {
   "cell_type": "markdown",
   "metadata": {},
   "source": [
    "It's straight forward to expand our model to more complex formulas.\n",
    "\n",
    "Let's make a sine wave with Amplitude 3, frequence 2, and some noise."
   ]
  },
  {
   "cell_type": "code",
   "execution_count": null,
   "metadata": {},
   "outputs": [],
   "source": [
    "filename = datadir / \"sine.csv\"\n",
    "make_data.make_sine_wave(filename, a=3, f=2)\n"
   ]
  },
  {
   "cell_type": "code",
   "execution_count": null,
   "metadata": {},
   "outputs": [],
   "source": [
    "\n",
    "df = pd.read_csv(filename)\n",
    "\n",
    "plt.plot(df['time'], df['value'], 'b+')\n",
    "plt.xlabel('time')\n",
    "plt.ylabel('value');"
   ]
  },
  {
   "cell_type": "markdown",
   "metadata": {},
   "source": [
    "As you can see, there is some noise, but not too much.\n",
    "Using the Uniform distribution for the standard deviation works fine, as you have seen in the previous example.\n",
    "\n",
    "However, saying we know absolutely nothing about the standard deviation is a bit too strong.\n",
    "\n",
    "We could speed up the calculations by using [what is called a \"weakly informative\" distribution.](http://www.stat.columbia.edu/~gelman/research/published/taumain.pdf)\n",
    "\n",
    "It is set up, so that the information it does provide is intentionally weaker than whatever actual knowledge is available.\n",
    "\n",
    "We can be sure the standard deviaition is below 100. Also, it will be somewhat above 0.\n",
    "\n",
    "The paper linked suggests using an inverse gamma.\n",
    "If I make a plot, I hope you understand why that makes sense:"
   ]
  },
  {
   "cell_type": "code",
   "execution_count": null,
   "metadata": {},
   "outputs": [],
   "source": [
    "from scipy import stats\n",
    "fig, ax = plt.subplots(1, 3, figsize=(12,4))\n",
    "\n",
    "x = df['time']\n",
    "ax[0].plot(x, stats.uniform.pdf(x, min(x), max(x)))\n",
    "ax[0].set_title('Uniform')\n",
    "\n",
    "ax[1].plot(x, stats.halfcauchy.pdf(x))\n",
    "ax[1].set_title('Half Cauchy')\n",
    "\n",
    "ax[2].plot(x, stats.invgamma.pdf(x, a=1))\n",
    "ax[2].set_title('Inverse Gamma')\n"
   ]
  },
  {
   "cell_type": "markdown",
   "metadata": {},
   "source": [
    "If you are afraid of picking the wrong distribution, no worries!\n",
    "\n",
    "As you have seen before, the uniform will work just fine.\n",
    "The Half Cauchy will also work fine, as will the Inverse Gamma.\n",
    "\n",
    "However, because it is reasonable to suggest that the standard deviation will neither be 0, nor 100, the inverse gamma will converge faster in most cases. You might want to change the $a$ variable, if you have reasons to do so."
   ]
  },
  {
   "cell_type": "code",
   "execution_count": null,
   "metadata": {},
   "outputs": [],
   "source": [
    "import pymc as pm\n",
    "\n",
    "df = pd.read_csv(filename)\n",
    "x = df[\"time\"]\n",
    "y = df[\"value\"]\n",
    "\n",
    "model = pm.Model()\n",
    "\n",
    "with model:\n",
    "    Amplitude = pm.Normal(\"amp\")\n",
    "    freq = pm.Normal(\"f\")\n",
    "    predict = Amplitude * np.sin(freq * x)\n",
    "    \n",
    "    sigma = pm.InverseGamma('sigma', alpha=1)\n",
    "    estimate = pm.Normal(\"y\", mu=predict, sigma=sigma, observed=y)\n",
    "    \n",
    "    result = pm.sample(3000)\n",
    "az.plot_trace(result)\n",
    "plt.tight_layout()"
   ]
  },
  {
   "cell_type": "markdown",
   "metadata": {},
   "source": [
    "As you can see, it is possible to flip the amplitude and frequency with a negative sign!\n",
    "\n",
    "Both give the same result...\n",
    "\n",
    "You could force the amplitude and frequency to be positive:"
   ]
  },
  {
   "cell_type": "code",
   "execution_count": null,
   "metadata": {},
   "outputs": [],
   "source": [
    "model = pm.Model()\n",
    "\n",
    "with model:\n",
    "    Amplitude = pm.HalfNormal(\"amp\")\n",
    "    freq = pm.HalfNormal(\"f\")\n",
    "    predict = Amplitude * np.sin(freq * x)\n",
    "    \n",
    "    sigma = pm.InverseGamma('sigma', alpha=1)\n",
    "    estimate = pm.Normal(\"y\", mu=predict, sigma=sigma, observed=y)\n",
    "    \n",
    "    result = pm.sample(3000)\n",
    "az.plot_trace(result)\n",
    "plt.tight_layout()"
   ]
  },
  {
   "cell_type": "markdown",
   "metadata": {},
   "source": [
    "We can plot the final result, adding two standard deviations as upper and lower bounds:"
   ]
  },
  {
   "cell_type": "code",
   "execution_count": null,
   "metadata": {},
   "outputs": [],
   "source": [
    "A = result.posterior.amp.median().values\n",
    "f = result.posterior.f.median().values\n",
    "sigma = result.posterior.sigma.median().values\n",
    "yhat = A * np.sin(f*df['time'])\n",
    "\n",
    "plt.figure(figsize=(12,6))\n",
    "plt.plot(df['time'], df['value'], 'b+')\n",
    "plt.plot(df['time'], yhat, color='black', label='model')\n",
    "plt.fill_between(df['time'], yhat + sigma, yhat-sigma, color='r', alpha=0.5)\n",
    "plt.fill_between(df['time'], yhat + 2*sigma, yhat-2*sigma, color='r', alpha=0.3);"
   ]
  }
 ],
 "metadata": {
  "kernelspec": {
   "display_name": "Python 3.9.13 ('dme22-EYaUUFkp-py3.9')",
   "language": "python",
   "name": "python3"
  },
  "language_info": {
   "codemirror_mode": {
    "name": "ipython",
    "version": 3
   },
   "file_extension": ".py",
   "mimetype": "text/x-python",
   "name": "python",
   "nbconvert_exporter": "python",
   "pygments_lexer": "ipython3",
   "version": "3.9.13"
  },
  "vscode": {
   "interpreter": {
    "hash": "a7860b014c314f311c8b672f44810aa9dc3f93fa03e0304fc46ef46d9eb93290"
   }
  }
 },
 "nbformat": 4,
 "nbformat_minor": 2
}
