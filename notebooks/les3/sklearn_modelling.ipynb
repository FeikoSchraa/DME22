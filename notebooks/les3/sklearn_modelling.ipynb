{
 "cells": [
  {
   "cell_type": "code",
   "execution_count": null,
   "metadata": {},
   "outputs": [],
   "source": [
    "import seaborn as sns\n",
    "import matplotlib.pyplot as plt\n",
    "import numpy as np\n",
    "import pandas as pd\n",
    "import polars as pl\n",
    "\n",
    "import sys\n",
    "sys.path.insert(0, \".\")\n",
    "from src.settings import modelsettings\n",
    "from src import preprocess, visualization\n",
    "import warnings\n",
    "warnings.simplefilter(action='ignore', category=FutureWarning)\n"
   ]
  },
  {
   "cell_type": "markdown",
   "metadata": {},
   "source": [
    "Let's load the processed penguins data and preprocess so that we have the floating point data."
   ]
  },
  {
   "cell_type": "code",
   "execution_count": null,
   "metadata": {},
   "outputs": [],
   "source": [
    "filename = (\"../..\" / modelsettings.processed_dir / \"processed.parq\").resolve()\n",
    "p = preprocess.prepare_floats(filename, modelsettings)\n",
    "p.head(5)\n"
   ]
  },
  {
   "cell_type": "markdown",
   "metadata": {},
   "source": [
    "If we plot the distributions for the species, we can see the overlap"
   ]
  },
  {
   "cell_type": "code",
   "execution_count": null,
   "metadata": {},
   "outputs": [],
   "source": [
    "g = sns.FacetGrid(p.to_pandas(), col=\"variable\", hue=\"species\")\n",
    "g.map_dataframe(sns.kdeplot, x=\"norm\")\n",
    "\n",
    "g.add_legend()"
   ]
  },
  {
   "cell_type": "markdown",
   "metadata": {},
   "source": [
    "I hope it is self explanatory that you need more than one variable to split this data.\n",
    "\n",
    "If you look at \"cullen\", you can identify \"Adelie\", but you can't discern between \"Gentoo\" and \"Chinstrap\" because they have the same size.\n",
    "\n",
    "However, if you look at \"culdep\", we can discern between \"Gentoo\" and the rest. This means that combining two variables will give you the species!\n",
    "\n",
    "If you visualize this, it becomes clear:"
   ]
  },
  {
   "cell_type": "code",
   "execution_count": null,
   "metadata": {},
   "outputs": [],
   "source": [
    "subset = (\n",
    "    pl.read_parquet(filename)\n",
    "    .select(\n",
    "        [\n",
    "            pl.col([\"species\", \"cullen\", \"culdep\"]),\n",
    "        ]\n",
    "    )\n",
    "    .to_pandas()\n",
    ")\n",
    "sns.scatterplot(data=subset, x=\"cullen\", y=\"culdep\", hue=\"species\")\n"
   ]
  },
  {
   "cell_type": "markdown",
   "metadata": {},
   "source": [
    "# Modelling with Scikit-learn\n",
    "\n",
    "Looking at the scatterplot, you can almost see the model!\n",
    "\n",
    "You will need to split the data at $cullen=42$ and $culdep=16$, sort of.\n",
    "That will give you the classification into three species.\n",
    "\n",
    "Can we automate that? Sure, we can, with scikit-learn!\n",
    "\n",
    "Scikit-learn has great [documentation](https://scikit-learn.org/stable/index.html)\n",
    "\n",
    "Really, take some time to study it. The quality is very high, and there are lots of examples.\n",
    "\n",
    "If you look at the homepage, you can read a one-line introduction into classification:\n",
    "\n",
    "> \"Identifying which category an object belongs to.\"\n",
    "\n",
    "That sounds like what we want to do. \n",
    "First thing we need to do, is to split the variables and the outcome."
   ]
  },
  {
   "cell_type": "code",
   "execution_count": null,
   "metadata": {},
   "outputs": [],
   "source": [
    "y, X = subset[\"species\"], subset[[\"cullen\", \"culdep\"]]\n"
   ]
  },
  {
   "cell_type": "markdown",
   "metadata": {},
   "source": [
    "We will also need to keep a small set apart.\n",
    "\n",
    "YOu can read more about the background [here](https://scikit-learn.org/stable/modules/cross_validation.html)\n",
    "\n",
    "The first sentence on that page is:\n",
    "\n",
    "> Learning the parameters of a prediction function and testing it on the same data is a methodological mistake: a model that would just repeat the labels of the samples that it has just seen would have a perfect score but would fail to predict anything useful on yet-unseen data.\n",
    "\n",
    "In it's most basic form, scikit-learn models only require four lines of code:\n",
    "\n",
    "```\n",
    "from sklearn import Model\n",
    "model = Model()\n",
    "model.fit(X_train, y_train)\n",
    "model.score(X_test, y_test)\n",
    "```\n",
    "\n",
    "You import a model, fit it on the traindata, and test it on the testdata.\n",
    "\n",
    "<img src=\"https://scikit-learn.org/stable/_images/sphx_glr_plot_classifier_comparison_001.png\">\n",
    "\n",
    "Looking at the classification models, there is a lot of choice.\n",
    "Let's pick the DecisionTreeClassifier"
   ]
  },
  {
   "cell_type": "code",
   "execution_count": null,
   "metadata": {},
   "outputs": [],
   "source": [
    "from sklearn.model_selection import train_test_split\n",
    "from sklearn.tree import DecisionTreeClassifier\n",
    "\n",
    "X_train, X_test, y_train, y_test = train_test_split(X, y, test_size=0.2, random_state=0)\n",
    "model = DecisionTreeClassifier(max_depth=5)\n",
    "model.fit(X_train, y_train)\n",
    "model.score(X_test, y_test)"
   ]
  },
  {
   "cell_type": "markdown",
   "metadata": {},
   "source": [
    "So, we get an accuracy of 93%.\n",
    "That's nice!\n",
    "\n",
    "Note we only tested on 20% of the data, so your mileage may vary...\n",
    "\n",
    "We can visualize what the model did (if we have 2 dimensions, which we have)"
   ]
  },
  {
   "cell_type": "code",
   "execution_count": null,
   "metadata": {},
   "outputs": [],
   "source": [
    "visualization.inspect_model(model, X, y)"
   ]
  },
  {
   "cell_type": "code",
   "execution_count": null,
   "metadata": {},
   "outputs": [],
   "source": [
    "from sklearn.svm import SVC\n",
    "\n",
    "model = SVC()\n",
    "visualization.inspect_model(model, X, y)\n",
    "model.score(X_test, y_test)\n"
   ]
  },
  {
   "cell_type": "markdown",
   "metadata": {},
   "source": [
    "Even though both models score 93%, I would still prefer the SVC model."
   ]
  }
 ],
 "metadata": {
  "kernelspec": {
   "display_name": "Python 3.9.13 ('dme22-EYaUUFkp-py3.9')",
   "language": "python",
   "name": "python3"
  },
  "language_info": {
   "codemirror_mode": {
    "name": "ipython",
    "version": 3
   },
   "file_extension": ".py",
   "mimetype": "text/x-python",
   "name": "python",
   "nbconvert_exporter": "python",
   "pygments_lexer": "ipython3",
   "version": "3.11.5"
  },
  "vscode": {
   "interpreter": {
    "hash": "a7860b014c314f311c8b672f44810aa9dc3f93fa03e0304fc46ef46d9eb93290"
   }
  }
 },
 "nbformat": 4,
 "nbformat_minor": 2
}
