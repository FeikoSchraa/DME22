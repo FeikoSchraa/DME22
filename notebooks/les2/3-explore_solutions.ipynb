{
 "cells": [
  {
   "cell_type": "code",
   "execution_count": null,
   "metadata": {},
   "outputs": [],
   "source": [
    "import seaborn as sns\n",
    "import matplotlib.pyplot as plt\n",
    "import numpy as np\n",
    "import pandas as pd\n",
    "from pathlib import Path\n",
    "plt.rcParams[\"figure.figsize\"] = (8,8)"
   ]
  },
  {
   "cell_type": "code",
   "execution_count": null,
   "metadata": {},
   "outputs": [],
   "source": [
    "datapath = Path('data/raw/diamonds.csv')\n",
    "df = pd.read_csv(datapath)"
   ]
  },
  {
   "cell_type": "markdown",
   "metadata": {},
   "source": [
    "We will explore the diamonds dataset. This is a nice dataset for dataexploration, because:\n",
    "\n",
    "1. It is easy to form hypothesis about the dataset\n",
    "2. There is a lot of data. Not 150 observations, like the iris-dataset, but more than 50k observations. This makes the plotting a bit more interesting.\n",
    "\n",
    "The information available about the 10 variables:\n",
    "1. price: price in US dollars (\\$326--\\$18,823)\n",
    "2. carat: weight of the diamond (0.2--5.01)\n",
    "3. cut: quality of the cut (Fair, Good, Very Good, Premium, Ideal)\n",
    "4. color: diamond colour, from D (best) to J (worst)\n",
    "5. clarity: a measurement of how clear the diamond is (I1 (worst), SI2, SI1, VS2, VS1, VVS2, VVS1, IF (best))\n",
    "6. x: length in mm (0--10.74)\n",
    "7. y: width in mm (0--58.9)\n",
    "8. z: depth in mm (0--31.8)\n",
    "9. depth: total depth percentage = z / mean(x, y) = 2 * z / (x + y) (43--79)\n",
    "10. table: width of top of diamond relative to widest point (43--95)\n",
    "\n",
    "With this, let's start exploring.\n",
    "First, let's explore with some basic `pandas` functions."
   ]
  },
  {
   "cell_type": "code",
   "execution_count": null,
   "metadata": {},
   "outputs": [],
   "source": [
    "df.head()"
   ]
  },
  {
   "cell_type": "code",
   "execution_count": null,
   "metadata": {},
   "outputs": [],
   "source": [
    "df.describe()"
   ]
  },
  {
   "cell_type": "markdown",
   "metadata": {},
   "source": [
    "This doesnt tell us that much new. Let's check if everything is read in as expected with `.info()`"
   ]
  },
  {
   "cell_type": "code",
   "execution_count": null,
   "metadata": {},
   "outputs": [],
   "source": [
    "df.info()"
   ]
  },
  {
   "cell_type": "markdown",
   "metadata": {},
   "source": [
    "This seems to be correct. To me, the most straight forward relation I can spot is between carat and price. Big diamonds will cost more, right?"
   ]
  },
  {
   "cell_type": "code",
   "execution_count": null,
   "metadata": {},
   "outputs": [],
   "source": [
    "plt.scatter(data=df, x='carat', y='price')"
   ]
  },
  {
   "cell_type": "markdown",
   "metadata": {},
   "source": [
    "That's a lot of points. Because there are 53k points, probably a lot will overlap. Let's make the points a bit transparent. "
   ]
  },
  {
   "cell_type": "code",
   "execution_count": null,
   "metadata": {},
   "outputs": [],
   "source": [
    "plt.scatter(data=df, x='carat', y='price', alpha=0.1)"
   ]
  },
  {
   "cell_type": "markdown",
   "metadata": {},
   "source": [
    "That's better. At least we get some idea about the distribution. Let's try to zoom in a bit more. We see that another column is called `cut` which stands for the quality of the cut. This will probably have some impact. Lets use colors to see if that makes sense.\n",
    "\n",
    "At the seaborn [documentation](https://seaborn.pydata.org/tutorial/color_palettes.html) we can look up the color palettes. Because this is `Sequential` data (ranging from low to high), we will pick one of the sequential colorschemes."
   ]
  },
  {
   "cell_type": "code",
   "execution_count": null,
   "metadata": {},
   "outputs": [],
   "source": [
    "sns.scatterplot(data=df, x='carat', y='price',\n",
    "    linewidth=0, alpha=0.1,\n",
    "    hue='cut', palette='rocket')"
   ]
  },
  {
   "cell_type": "markdown",
   "metadata": {},
   "source": [
    "Ok, nice, but now we have another problem. The colors are ordered alphabetically, but we want them ordered by their meaning. We can do this in different ways. One way is to use `hue_order`."
   ]
  },
  {
   "cell_type": "code",
   "execution_count": null,
   "metadata": {},
   "outputs": [],
   "source": [
    "cutorder = ['Fair', 'Good', 'Very Good', 'Premium', 'Ideal']\n",
    "sns.scatterplot(data=df, x='carat', y='price',\n",
    "    alpha=0.3, linewidth=0,\n",
    "    hue='cut', hue_order=cutorder, \n",
    "    palette='rocket')"
   ]
  },
  {
   "cell_type": "markdown",
   "metadata": {},
   "source": [
    "Well, that seems to work. At least the colors are ordered. But it is still too crowded. Let's try to split things up with `FacetGrid`. But before that, let's use a better way than passing cutorder. The type of the `cut` column is a string. We can transform that into `category`, which is for categorical data, and pass an order."
   ]
  },
  {
   "cell_type": "code",
   "execution_count": null,
   "metadata": {},
   "outputs": [],
   "source": [
    "df.cut = df.cut.astype('category')\n",
    "df.cut.cat.set_categories(cutorder, inplace=True)"
   ]
  },
  {
   "cell_type": "code",
   "execution_count": null,
   "metadata": {},
   "outputs": [],
   "source": [
    "g= sns.FacetGrid(df, \n",
    "        col='cut', hue='cut', palette='rocket',\n",
    "        height=10, aspect=0.5)\n",
    "g.map_dataframe(sns.scatterplot, x='carat', y='price',\n",
    "        alpha=0.3, linewidth=0)"
   ]
  },
  {
   "cell_type": "markdown",
   "metadata": {},
   "source": [
    "Well, the plots are separated. And indeed, it seems to be the case that better cuts have a higher price at lower carats. Lets try to confirm that with a `lowess` model, which stands for `locally weighted scatterplot smoothing`."
   ]
  },
  {
   "cell_type": "code",
   "execution_count": null,
   "metadata": {},
   "outputs": [],
   "source": [
    "g = sns.lmplot(data=df, x='carat', y='price',\n",
    "        hue='cut', palette='rocket',\n",
    "        lowess=True, scatter_kws={'facecolors':'none', 'alpha':0.5})\n",
    "plt.ylim(0, 20000)"
   ]
  },
  {
   "cell_type": "markdown",
   "metadata": {},
   "source": [
    "Now, that seems to confirm what we thought. Changing the marker might make things a bit clearer"
   ]
  },
  {
   "cell_type": "code",
   "execution_count": null,
   "metadata": {},
   "outputs": [],
   "source": [
    "sns.lmplot(data=df, x='carat', y='price',\n",
    "        hue='cut', palette='rocket',\n",
    "        lowess=True, markers='+')\n",
    "plt.ylim(0, 20000)\n"
   ]
  },
  {
   "cell_type": "markdown",
   "metadata": {},
   "source": [
    "Or dropping the markers completely:"
   ]
  },
  {
   "cell_type": "code",
   "execution_count": null,
   "metadata": {},
   "outputs": [],
   "source": [
    "sns.lmplot(data=df, x='carat', y='price',\n",
    "        hue='cut', palette='rocket',\n",
    "        lowess=True, scatter_kws={'facecolors':'none', 'edgecolors':'none'})"
   ]
  },
  {
   "cell_type": "markdown",
   "metadata": {},
   "source": [
    "It is not very consistent, but `lmplot` has actually a facet grid implemented. You can simply pass it a `col='cut'` parameter."
   ]
  },
  {
   "cell_type": "code",
   "execution_count": null,
   "metadata": {},
   "outputs": [],
   "source": [
    "sns.lmplot(data=df, x='carat', y='price',\n",
    "        hue='cut', palette='rocket',\n",
    "        lowess=True, scatter_kws={'facecolors':'none', 'edgecolors':'none'},\n",
    "        col='cut')"
   ]
  },
  {
   "cell_type": "markdown",
   "metadata": {},
   "source": [
    "But this is looking too empty again. \n",
    "Now let's try to find more properties that influence the price. We have `clarity`. That might influence the price, too. Let's use the plot we had, and add an extra dimension. But first make sure, clarity is categorical."
   ]
  },
  {
   "cell_type": "code",
   "execution_count": null,
   "metadata": {},
   "outputs": [],
   "source": [
    "clarityorder = ['I1', 'SI2', 'SI1', 'VS2', 'VS1', 'VVS2', 'VVS1', 'IF']\n",
    "df.clarity = df.clarity.astype('category')\n",
    "df.clarity.cat.set_categories(clarityorder, inplace=True)"
   ]
  },
  {
   "cell_type": "code",
   "execution_count": null,
   "metadata": {},
   "outputs": [],
   "source": [
    "sns.lmplot(data=df, x='carat', y='price', \n",
    "        hue='clarity', palette='rocket',\n",
    "        col='cut',\n",
    "        lowess=True,\n",
    "        height=5,\n",
    "\n",
    "        scatter_kws={'facecolors':'none', 'alpha':0.1})"
   ]
  },
  {
   "cell_type": "markdown",
   "metadata": {},
   "source": [
    "While you might be able to see the relationships by comparing the facets, it is a bit hard to see.\n",
    "Much clearer is the heatmap. First, we create a column `value`, that shows the price unit per unit of weight.\n",
    "Then, we pivot the data."
   ]
  },
  {
   "cell_type": "code",
   "execution_count": null,
   "metadata": {},
   "outputs": [],
   "source": [
    "subset = df[['cut', 'clarity', 'carat', 'price']].copy()\n",
    "subset['value'] = df.apply(lambda x: x.price / x.carat, axis=1)\n",
    "hm = pd.pivot_table(subset, values='value', columns='clarity', index='cut')\n",
    "hm"
   ]
  },
  {
   "cell_type": "code",
   "execution_count": null,
   "metadata": {},
   "outputs": [],
   "source": [
    "sns.heatmap(hm, annot=hm/1000)"
   ]
  },
  {
   "cell_type": "markdown",
   "metadata": {},
   "source": [
    "Interestingly, we can see a hotspot here: If your cut is very good, and clarity is the best, you get about 5k for every carat of diamond. Improving the cut will lower the price per carat! You could try another palette to make it clearer."
   ]
  },
  {
   "cell_type": "code",
   "execution_count": null,
   "metadata": {},
   "outputs": [],
   "source": [
    "sns.heatmap(hm, annot=hm/1000, cmap='vlag')"
   ]
  },
  {
   "cell_type": "markdown",
   "metadata": {},
   "source": [
    "Interesting, this shows that dropping the clarity even a bit will give you a price below the mean value. I had not expected that a medium clarity would give a higher price per unit. Maybe it has something to do with outliers? Pivot_table uses 'mean', so let's switch to the median."
   ]
  },
  {
   "cell_type": "code",
   "execution_count": null,
   "metadata": {},
   "outputs": [],
   "source": [
    "hm = pd.pivot_table(subset, values='value', columns='clarity', index='cut', aggfunc='median')\n",
    "sns.heatmap(hm, annot=hm/1000, cmap='vlag')"
   ]
  },
  {
   "cell_type": "markdown",
   "metadata": {},
   "source": [
    "This raises other questions. But there don't seem to be these sudden drops. Outliers do have an impact here! Still, it might be unexpected that you get the most \"bang for you buck\" with worse cuts, but better clarity or better cuts, but worse clarity. \n",
    "\n",
    "Let's try to get a grip on these outliers.  We could wonder what the distribution actually is, for every category. So, we want to look at the distribution of the prices in every clarity group.\n",
    "Let's put the clarity on the x-axis, and the prices on the y-axis, with a boxplot."
   ]
  },
  {
   "cell_type": "code",
   "execution_count": null,
   "metadata": {},
   "outputs": [],
   "source": [
    "sns.boxplot(data=subset, x='clarity', y='price')"
   ]
  },
  {
   "cell_type": "markdown",
   "metadata": {},
   "source": [
    "Well, that's something you might not have expected. What's going on? The carat has the biggest impact on price, right? So we might want to put the caret on the x-axis. But we run into problems if we do that just like this:"
   ]
  },
  {
   "cell_type": "code",
   "execution_count": null,
   "metadata": {},
   "outputs": [],
   "source": [
    "sns.boxplot(data=subset, x='carat', y='price')"
   ]
  },
  {
   "cell_type": "markdown",
   "metadata": {},
   "source": [
    "What's going on? `carat` is a continuous variable. If we want to make boxplot, we need groups on which we want to calculate a boxplot. So let's make our own bin's on the x-axis to fix this.\n"
   ]
  },
  {
   "cell_type": "code",
   "execution_count": null,
   "metadata": {},
   "outputs": [],
   "source": [
    "subset['bins'] = pd.cut(df['carat'], bins=5)"
   ]
  },
  {
   "cell_type": "code",
   "execution_count": null,
   "metadata": {},
   "outputs": [],
   "source": [
    "sns.boxplot(data=subset, x='bins', y='price')"
   ]
  },
  {
   "cell_type": "markdown",
   "metadata": {},
   "source": [
    "This looks better! We can see how the price grows in every group. We can also see the outliers, and how the groups get smaller. Maybe we can split this up again? The weirdness seems to be happeing in the lowest carat group.\n",
    "\n",
    "Let's say, we could use clarity to split up the caratbins into even smaller groups?"
   ]
  },
  {
   "cell_type": "code",
   "execution_count": null,
   "metadata": {},
   "outputs": [],
   "source": [
    "sns.boxplot(data=subset, x='bins', y='price', hue='clarity', palette='rocket')"
   ]
  },
  {
   "cell_type": "markdown",
   "metadata": {},
   "source": [
    "This gives a really nice overview. We can still see how the groups differ in size. We can also see very clearly how the clarity for the small diamonds has an impact on price, but isn't distributed normally. For the rest of the groups, there is more or less a normal distribution.\n",
    "\n",
    "Let's try to zoom in on the weird subset."
   ]
  },
  {
   "cell_type": "code",
   "execution_count": null,
   "metadata": {},
   "outputs": [],
   "source": [
    "subset2 = df[(df.carat < 1.162) & (df.clarity == 'IF')]\n",
    "sns.boxplot(data=subset2, x ='cut', y='price', palette='rocket')\n",
    "len(subset)\n"
   ]
  },
  {
   "cell_type": "markdown",
   "metadata": {},
   "source": [
    "Ok, now zoom in even further on the 'ideal' group."
   ]
  },
  {
   "cell_type": "code",
   "execution_count": null,
   "metadata": {},
   "outputs": [],
   "source": [
    "colororder = ['D', 'E', 'F', 'G', 'H', 'I', \"J\"]\n",
    "df.color = df.color.astype('category')\n",
    "df.color.cat.set_categories(colororder, inplace=True)"
   ]
  },
  {
   "cell_type": "code",
   "execution_count": null,
   "metadata": {},
   "outputs": [],
   "source": [
    "subset2 = df[(df.carat < 1.162) & (df.clarity == 'IF') & (df.cut == 'Ideal')]\n",
    "sns.boxplot(data=subset2, x ='color', y='price', palette='rocket')"
   ]
  },
  {
   "cell_type": "markdown",
   "metadata": {},
   "source": [
    "And add the F and G color groups."
   ]
  },
  {
   "cell_type": "code",
   "execution_count": null,
   "metadata": {},
   "outputs": [],
   "source": [
    "subset2 = df[(df.carat < 1.162) & (df.clarity == 'IF') & (df.cut == 'Ideal') & ((df.color == 'F') | (df.color == 'G'))]\n",
    "sns.scatterplot(data=subset2, x='carat', y='price')"
   ]
  },
  {
   "cell_type": "markdown",
   "metadata": {},
   "source": [
    "Ah,  there we have it. The group between 0.8-1.0 is missing. This gives the boxplot the unbalanced look. If this was a normal distribution, we would have expected diamonds between 0.8 and 1.0. This is a pattern we actually could have noticed already in the first plots. For some reason, carats tend to converge be distributed more around the start of a carat, and tend to be very rare close to the end of a carat. My hypothesis is, that this is caused by a human decision. We can see how the carat converges to certain numbers by checking the histogram."
   ]
  },
  {
   "cell_type": "code",
   "execution_count": null,
   "metadata": {},
   "outputs": [],
   "source": [
    "df['ceil'] = np.ceil(df.carat)"
   ]
  },
  {
   "cell_type": "code",
   "execution_count": null,
   "metadata": {},
   "outputs": [],
   "source": [
    "fig, ax = plt.subplots(figsize=(10,10))\n",
    "\n",
    "ax = sns.histplot(data=df, x='carat')\n",
    "ticks = np.linspace(0, 5, 21)\n",
    "labels = ['{:.2f}'.format(x) for x in ticks]\n",
    "ax.set_xticks(ticks)\n",
    "ax.set_xticklabels(labels, rotation=45)\n",
    "plt.show()"
   ]
  },
  {
   "cell_type": "markdown",
   "metadata": {},
   "source": [
    "This confirms my hypothesis. Carat seems to diverge towards nice round numbers. You find peaks at 0.25, 0.5, 0.75, 1.00, 1.5, 2.0. Probably this is due to how diamonds are sold, in these categories. With this, we could go to an expert to ask for clarification.\n",
    "\n",
    "Remember we calculated a 'price increase per unit of weight'? Let's see if that changes what is going on.\n"
   ]
  },
  {
   "cell_type": "code",
   "execution_count": null,
   "metadata": {},
   "outputs": [],
   "source": [
    "sns.boxplot(data=subset, x='cut', y='value', hue='clarity', palette='rocket')"
   ]
  },
  {
   "cell_type": "markdown",
   "metadata": {},
   "source": [
    "It turns out, it really matters how we look at the data. Things that seem weird from one perspective, sometimes turn out to be reflections of human decisions that create non-normal distributions.\n",
    "\n",
    "If we normalize the price, we can see that there is some other process going on that drives up the price per unit of diamond. Probably something like esthethics, or context, or history of the diamond, etc., that makes the diamond more valuable.\n",
    "\n",
    "But we also see this happening more often in the Ideal group, with perfect coloring, which makes sense. These diamonds are probably rare, something we can explore with a heatmap:"
   ]
  },
  {
   "cell_type": "code",
   "execution_count": null,
   "metadata": {},
   "outputs": [],
   "source": [
    "hm = pd.pivot_table(subset, values='value', columns='clarity', index='cut', aggfunc='count')\n",
    "sns.heatmap(hm, annot=hm/1000, cmap='vlag')"
   ]
  },
  {
   "cell_type": "code",
   "execution_count": null,
   "metadata": {},
   "outputs": [],
   "source": [
    "g= sns.FacetGrid(df, \n",
    "        row='cut', col='color',\n",
    "        hue='clarity', palette='rocket',\n",
    "        height=2, aspect=1)\n",
    "g.map_dataframe(sns.scatterplot, x='carat', y='price')"
   ]
  },
  {
   "cell_type": "code",
   "execution_count": null,
   "metadata": {},
   "outputs": [],
   "source": []
  }
 ],
 "metadata": {
  "kernelspec": {
   "display_name": "Python 3.9.6 64-bit",
   "language": "python",
   "name": "python3"
  },
  "language_info": {
   "codemirror_mode": {
    "name": "ipython",
    "version": 3
   },
   "file_extension": ".py",
   "mimetype": "text/x-python",
   "name": "python",
   "nbconvert_exporter": "python",
   "pygments_lexer": "ipython3",
   "version": "3.9.6"
  },
  "vscode": {
   "interpreter": {
    "hash": "31f2aee4e71d21fbe5cf8b01ff0e069b9275f58929596ceb00d14d90e3e16cd6"
   }
  }
 },
 "nbformat": 4,
 "nbformat_minor": 2
}
