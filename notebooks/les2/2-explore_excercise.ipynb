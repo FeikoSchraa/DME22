{
 "cells": [
  {
   "cell_type": "code",
   "execution_count": null,
   "metadata": {},
   "outputs": [],
   "source": [
    "import seaborn as sns\n",
    "import matplotlib.pyplot as plt\n",
    "import numpy as np\n",
    "import pandas as pd\n",
    "from pathlib import Path\n",
    "plt.rcParams[\"figure.figsize\"] = (8,8)"
   ]
  },
  {
   "cell_type": "code",
   "execution_count": null,
   "metadata": {},
   "outputs": [],
   "source": [
    "datapath = Path('data/raw/diamonds.csv')\n",
    "df = pd.read_csv(datapath)\n",
    "df.head()"
   ]
  },
  {
   "cell_type": "markdown",
   "metadata": {},
   "source": [
    "We will explore the diamonds dataset. This is a nice dataset for dataexploration, because:\n",
    "\n",
    "1. It is easy to form hypothesis about the dataset\n",
    "2. There is a lot of data. Not 150 observations, like the iris-dataset, but more than 50k observations. This makes the plotting a bit more interesting.\n",
    "\n",
    "The information available about the 10 variables:\n",
    "1. price: price in US dollars (\\$326--\\$18,823)\n",
    "2. carat: weight of the diamond (0.2--5.01)\n",
    "3. cut: quality of the cut (Fair, Good, Very Good, Premium, Ideal)\n",
    "4. color: diamond colour, from D (best) to J (worst)\n",
    "5. clarity: a measurement of how clear the diamond is (I1 (worst), SI2, SI1, VS2, VS1, VVS2, VVS1, IF (best))\n",
    "6. x: length in mm (0--10.74)\n",
    "7. y: width in mm (0--58.9)\n",
    "8. z: depth in mm (0--31.8)\n",
    "9. depth: total depth percentage = z / mean(x, y) = 2 * z / (x + y) (43--79)\n",
    "10. table: width of top of diamond relative to widest point (43--95)\n",
    "\n",
    "With this, let's start exploring."
   ]
  },
  {
   "cell_type": "markdown",
   "metadata": {},
   "source": [
    "## step 1\n",
    "Start with basic plots. \n",
    "First explore the basis correlation between carat and price.\n",
    "\n",
    "Make sure you get some basic esthetics correct, like: the amount of observations needs a solution, because default plots will be too crowded. So eexperiment with:\n",
    "- changing the properties of a plot like marker transparency or shape\n",
    "- add colors to explore additional dimensions like cut or clarity\n",
    "- use some simple statistics like boxplots or lmplots.\n",
    "\n",
    "\n"
   ]
  },
  {
   "cell_type": "code",
   "execution_count": null,
   "metadata": {},
   "outputs": [],
   "source": []
  },
  {
   "cell_type": "code",
   "execution_count": null,
   "metadata": {},
   "outputs": [],
   "source": []
  },
  {
   "cell_type": "markdown",
   "metadata": {},
   "source": [
    "## step 2\n",
    "Formulate hypothesis based on the basic plots. \n",
    "E.g., what is the impact of extra dimensions on the relationship between price and carat?\n",
    "\n",
    "Use facetgrids and color to try to differentiate. Use different approaches (heatmaps, lmplots, boxplots) depending on the question you are asking.\n"
   ]
  },
  {
   "cell_type": "code",
   "execution_count": null,
   "metadata": {},
   "outputs": [],
   "source": []
  },
  {
   "cell_type": "code",
   "execution_count": null,
   "metadata": {},
   "outputs": [],
   "source": []
  },
  {
   "cell_type": "markdown",
   "metadata": {},
   "source": [
    "## Step 3\n",
    "\n",
    "Pay special attention to the distributions. Explore questions like, for example:\n",
    "\n",
    "- Are the diamonds normally distributed in all groups? \n",
    "- What is the impact of using different metrics (e.g., mean or median)?\n",
    "- What might be an explanation for anomalies you find?\n",
    "- can you make plots that you could show to an expert, to clarify your question?\n",
    "- Maybe you can create new types of features, that are less sensitive to these outliers? \n",
    "\n"
   ]
  },
  {
   "cell_type": "code",
   "execution_count": null,
   "metadata": {},
   "outputs": [],
   "source": []
  }
 ],
 "metadata": {
  "kernelspec": {
   "display_name": "Python 3.9.13 64-bit ('3.9.13')",
   "language": "python",
   "name": "python3"
  },
  "language_info": {
   "codemirror_mode": {
    "name": "ipython",
    "version": 3
   },
   "file_extension": ".py",
   "mimetype": "text/x-python",
   "name": "python",
   "nbconvert_exporter": "python",
   "pygments_lexer": "ipython3",
   "version": "3.9.13"
  },
  "vscode": {
   "interpreter": {
    "hash": "c42a0a2900956ab7a89ede89f2c46c7e488ca7435c057b96fa71de27f73f979b"
   }
  }
 },
 "nbformat": 4,
 "nbformat_minor": 2
}
